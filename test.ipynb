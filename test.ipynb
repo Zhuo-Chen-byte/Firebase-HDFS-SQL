{
 "cells": [
  {
   "cell_type": "code",
   "execution_count": 47,
   "metadata": {
    "collapsed": true
   },
   "outputs": [],
   "source": [
    "import pandas as pd\n",
    "import re\n",
    "from pandasql import sqldf\n",
    "from command_lines import *\n",
    "from MapReduce import *"
   ]
  },
  {
   "cell_type": "code",
   "execution_count": 48,
   "outputs": [
    {
     "ename": "NameError",
     "evalue": "name 'command_getPartitionLocations' is not defined",
     "output_type": "error",
     "traceback": [
      "\u001B[0;31m---------------------------------------------------------------------------\u001B[0m",
      "\u001B[0;31mNameError\u001B[0m                                 Traceback (most recent call last)",
      "Cell \u001B[0;32mIn [48], line 1\u001B[0m\n\u001B[0;32m----> 1\u001B[0m \u001B[43mcommand_getPartitionLocations\u001B[49m(\u001B[38;5;124m'\u001B[39m\u001B[38;5;124m/usr/Males/John/winequality-red-v1.csv\u001B[39m\u001B[38;5;124m'\u001B[39m)\n",
      "\u001B[0;31mNameError\u001B[0m: name 'command_getPartitionLocations' is not defined"
     ]
    }
   ],
   "source": [
    "command_getPartitionLocations('/usr/Males/John/winequality-red-v1.csv')"
   ],
   "metadata": {
    "collapsed": false,
    "pycharm": {
     "name": "#%%\n"
    }
   }
  },
  {
   "cell_type": "code",
   "execution_count": null,
   "outputs": [],
   "source": [
    "p2 = Solution_.command_readPartition('/user/mary/winequality-red-v1.csv', 2)\n",
    "p4 = Solution_.command_readPartition('/user/mary/winequality-red-v1.csv', 4)"
   ],
   "metadata": {
    "collapsed": false,
    "pycharm": {
     "name": "#%%\n"
    }
   }
  },
  {
   "cell_type": "code",
   "execution_count": null,
   "outputs": [],
   "source": [
    "p2_k = mr.mapPartition(p2, ['5 < quality'], ['alcohol', 'fixed acidity', 'quality'], [])\n",
    "p4_k = mr.mapPartition(p4, ['5 < quality'], ['alcohol', 'fixed acidity', 'quality'], [])\n",
    "opt1 = mr.reducePartition([p2_k, p4_k], [])\n",
    "print(pd.DataFrame(opt1))"
   ],
   "metadata": {
    "collapsed": false,
    "pycharm": {
     "name": "#%%\n"
    }
   }
  },
  {
   "cell_type": "code",
   "execution_count": null,
   "outputs": [],
   "source": [
    "print(pd.DataFrame(p2_k))\n",
    "print(pd.DataFrame(p4_k))"
   ],
   "metadata": {
    "collapsed": false,
    "pycharm": {
     "name": "#%%\n"
    }
   }
  }
 ],
 "metadata": {
  "kernelspec": {
   "display_name": "Python 3",
   "language": "python",
   "name": "python3"
  },
  "language_info": {
   "codemirror_mode": {
    "name": "ipython",
    "version": 2
   },
   "file_extension": ".py",
   "mimetype": "text/x-python",
   "name": "python",
   "nbconvert_exporter": "python",
   "pygments_lexer": "ipython2",
   "version": "2.7.6"
  }
 },
 "nbformat": 4,
 "nbformat_minor": 0
}